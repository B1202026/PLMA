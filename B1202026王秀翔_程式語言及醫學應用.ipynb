{
  "nbformat": 4,
  "nbformat_minor": 0,
  "metadata": {
    "colab": {
      "provenance": []
    },
    "kernelspec": {
      "name": "python3",
      "display_name": "Python 3"
    },
    "language_info": {
      "name": "python"
    }
  },
  "cells": [
    {
      "cell_type": "markdown",
      "source": [
        "# 3/4"
      ],
      "metadata": {
        "id": "M0Wx3HBNeTEQ"
      }
    },
    {
      "cell_type": "code",
      "source": [
        "x=2;y=1\n",
        "a=2*x+y;b=100-y\n",
        "z=a*b\n",
        "print(z)"
      ],
      "metadata": {
        "colab": {
          "base_uri": "https://localhost:8080/"
        },
        "id": "4W1w8dtbeU0X",
        "outputId": "027f3906-9410-4729-c45d-3d69d2bea648"
      },
      "execution_count": null,
      "outputs": [
        {
          "output_type": "stream",
          "name": "stdout",
          "text": [
            "495\n"
          ]
        }
      ]
    },
    {
      "cell_type": "code",
      "source": [
        "y=4\n",
        "a=2*y+1\n",
        "z=100/a\n",
        "print(z)"
      ],
      "metadata": {
        "colab": {
          "base_uri": "https://localhost:8080/"
        },
        "id": "DgHu4aQIfmd6",
        "outputId": "07c6b4af-9267-428d-b805-ceac067a7ad7"
      },
      "execution_count": null,
      "outputs": [
        {
          "output_type": "stream",
          "name": "stdout",
          "text": [
            "11.11111111111111\n"
          ]
        }
      ]
    },
    {
      "cell_type": "markdown",
      "source": [
        "# 新增區段"
      ],
      "metadata": {
        "id": "mWHvmkTZrIc5"
      }
    }
  ]
}