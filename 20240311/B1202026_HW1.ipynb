{
  "nbformat": 4,
  "nbformat_minor": 0,
  "metadata": {
    "colab": {
      "provenance": []
    },
    "kernelspec": {
      "name": "python3",
      "display_name": "Python 3"
    },
    "language_info": {
      "name": "python"
    }
  },
  "cells": [
    {
      "cell_type": "code",
      "execution_count": 10,
      "metadata": {
        "colab": {
          "base_uri": "https://localhost:8080/"
        },
        "id": "FXe7ZrPnmN_E",
        "outputId": "4191c4fb-d8f6-4ea6-f138-c4cf5402f085"
      },
      "outputs": [
        {
          "output_type": "stream",
          "name": "stdout",
          "text": [
            "I'm a student\n"
          ]
        }
      ],
      "source": [
        "print(\"I'm a student\")"
      ]
    },
    {
      "cell_type": "code",
      "source": [
        "a=float(input('A點的X座標:'))\n",
        "b=float(input('A點的Y座標:'))\n",
        "c=float(input('B點的X座標:'))\n",
        "d=float(input('B點的Y座標:'))\n",
        "e=float((c-a)**2+(d-b)**2)**0.5\n",
        "print(\"A點和B點的距離為\",e)"
      ],
      "metadata": {
        "colab": {
          "base_uri": "https://localhost:8080/"
        },
        "id": "f5yoCCOnmdMn",
        "outputId": "bdbb2fea-adf5-49b8-d559-fdb76abad88f"
      },
      "execution_count": 13,
      "outputs": [
        {
          "output_type": "stream",
          "name": "stdout",
          "text": [
            "A點的X座標:-1\n",
            "A點的Y座標:-2\n",
            "B點的X座標:2\n",
            "B點的Y座標:2\n",
            "A點和B點的距離為 5.0\n"
          ]
        }
      ]
    },
    {
      "cell_type": "code",
      "source": [
        "a=float(input('身高幾公分：'))\n",
        "b=float(input('體重幾公斤：'))\n",
        "a/=100\n",
        "print('你的BMI值為',b/a/a)"
      ],
      "metadata": {
        "colab": {
          "base_uri": "https://localhost:8080/"
        },
        "id": "Td0kNPJy8N4G",
        "outputId": "4c53722c-e3cf-4c3b-8eb9-b6c963209cc9"
      },
      "execution_count": 9,
      "outputs": [
        {
          "output_type": "stream",
          "name": "stdout",
          "text": [
            "身高幾公分：200\n",
            "體重幾公斤：80\n",
            "你的BMI值為 20.0\n"
          ]
        }
      ]
    }
  ]
}