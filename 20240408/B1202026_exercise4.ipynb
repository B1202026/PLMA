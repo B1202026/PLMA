{
  "nbformat": 4,
  "nbformat_minor": 0,
  "metadata": {
    "colab": {
      "provenance": []
    },
    "kernelspec": {
      "name": "python3",
      "display_name": "Python 3"
    },
    "language_info": {
      "name": "python"
    }
  },
  "cells": [
    {
      "cell_type": "code",
      "source": [
        "a=float(input('身高幾公分：'))\n",
        "b=float(input('體重幾公斤：'))\n",
        "a/=100\n",
        "c=b/a/a\n",
        "print('你的BMI值為',c)\n",
        "if c<18.5:\n",
        "  print('體位過輕')\n",
        "elif 18.5<=c<24:\n",
        "  print('體位適中')\n",
        "elif 24<=c<27:\n",
        "  print('體位過重')\n",
        "else:\n",
        "  print('體位肥胖')"
      ],
      "metadata": {
        "colab": {
          "base_uri": "https://localhost:8080/"
        },
        "id": "kBqPUGECjzlF",
        "outputId": "4a794ff5-1692-45e9-d10e-3abfcdc1758a"
      },
      "execution_count": 14,
      "outputs": [
        {
          "output_type": "stream",
          "name": "stdout",
          "text": [
            "身高幾公分：190\n",
            "體重幾公斤：50\n",
            "你的BMI值為 13.850415512465375\n",
            "體位過輕\n"
          ]
        }
      ]
    },
    {
      "cell_type": "code",
      "source": [
        "a=float(input('第一個數字:'))\n",
        "b=input('運算符號:')\n",
        "c=float(input('第二個數字:'))\n",
        "if b=='+':\n",
        "  print(a+c)\n",
        "elif b=='-':\n",
        "  print(a-c)\n",
        "elif b=='*':\n",
        "  print(a*c)\n",
        "elif b=='/':\n",
        "  print(a/c)\n",
        "else:\n",
        "  print('請輸入正確的運算子')"
      ],
      "metadata": {
        "colab": {
          "base_uri": "https://localhost:8080/"
        },
        "id": "QBlZCtdQk3V8",
        "outputId": "e19ce596-f577-460a-dbda-49255b73dc3b"
      },
      "execution_count": 20,
      "outputs": [
        {
          "output_type": "stream",
          "name": "stdout",
          "text": [
            "第一個數字:3\n",
            "運算符號:+\n",
            "第二個數字:4\n",
            "7.0\n"
          ]
        }
      ]
    }
  ]
}