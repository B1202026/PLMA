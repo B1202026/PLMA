{
  "nbformat": 4,
  "nbformat_minor": 0,
  "metadata": {
    "colab": {
      "provenance": []
    },
    "kernelspec": {
      "name": "python3",
      "display_name": "Python 3"
    },
    "language_info": {
      "name": "python"
    }
  },
  "cells": [
    {
      "cell_type": "code",
      "execution_count": 25,
      "metadata": {
        "colab": {
          "base_uri": "https://localhost:8080/"
        },
        "id": "e9XzUkcRdaUy",
        "outputId": "b4064830-6cb4-4944-f153-928d9d43aaca"
      },
      "outputs": [
        {
          "output_type": "stream",
          "name": "stdout",
          "text": [
            "A\n",
            "['K', 'G', 'H', 'U']\n"
          ]
        }
      ],
      "source": [
        "a='C,B,A'\n",
        "b=['F','G','H']\n",
        "c=a.split(',')\n",
        "d=c+b\n",
        "d[0]='K'\n",
        "e=d.pop(2)\n",
        "print(e)\n",
        "del d[1:3]\n",
        "d.append('U')\n",
        "print(d)\n"
      ]
    },
    {
      "cell_type": "code",
      "source": [
        "a=input('請輸入一個八位數字：')\n",
        "print('第五個數字為',a[4])"
      ],
      "metadata": {
        "colab": {
          "base_uri": "https://localhost:8080/"
        },
        "id": "tRdNIf2zkpRq",
        "outputId": "279619dd-4161-40bc-c88d-3afe228fe15a"
      },
      "execution_count": 27,
      "outputs": [
        {
          "output_type": "stream",
          "name": "stdout",
          "text": [
            "請輸入一個八位數字：47983479\n",
            "第五個數字為 3\n"
          ]
        }
      ]
    },
    {
      "cell_type": "code",
      "source": [
        "a=\"My ID is B1202026\"\n",
        "b=a.split(' ')\n",
        "print(len(b))\n",
        "print(len(b[3]))"
      ],
      "metadata": {
        "colab": {
          "base_uri": "https://localhost:8080/"
        },
        "id": "8QYa5puI0PuL",
        "outputId": "5aca0211-ec42-45ca-b863-ef9f910625ba"
      },
      "execution_count": 32,
      "outputs": [
        {
          "output_type": "stream",
          "name": "stdout",
          "text": [
            "4\n",
            "8\n"
          ]
        }
      ]
    },
    {
      "cell_type": "code",
      "source": [
        "a=\"I'm a student\"\n",
        "b=a.split()\n",
        "c=str(b[0])\n",
        "print(c[2])"
      ],
      "metadata": {
        "colab": {
          "base_uri": "https://localhost:8080/"
        },
        "id": "8dnxY5Qj2VbZ",
        "outputId": "65d825cc-b5b8-4eb2-b3ee-23f67b07f998"
      },
      "execution_count": 35,
      "outputs": [
        {
          "output_type": "stream",
          "name": "stdout",
          "text": [
            "m\n"
          ]
        }
      ]
    }
  ]
}