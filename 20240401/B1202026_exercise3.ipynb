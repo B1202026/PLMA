{
  "nbformat": 4,
  "nbformat_minor": 0,
  "metadata": {
    "colab": {
      "provenance": []
    },
    "kernelspec": {
      "name": "python3",
      "display_name": "Python 3"
    },
    "language_info": {
      "name": "python"
    }
  },
  "cells": [
    {
      "cell_type": "code",
      "execution_count": 22,
      "metadata": {
        "colab": {
          "base_uri": "https://localhost:8080/"
        },
        "id": "61_aMKlVZ9dO",
        "outputId": "195ad9fd-24d2-46b1-ac62-7878e5c3dbd3"
      },
      "outputs": [
        {
          "output_type": "stream",
          "name": "stdout",
          "text": [
            "88.33333333333333\n",
            "{'姓名': '賴宏偉', '性別': '男', '學號': 'M1129020'}\n",
            "95.0\n",
            "{'姓名': '許珈綺', '性別': '女', '學號': 'M1229001'}\n"
          ]
        }
      ],
      "source": [
        "import copy\n",
        "a=dict(姓名='賴宏偉',性別='男',作業分數=[95,100,90])\n",
        "b=dict(學號='M1129020')\n",
        "a.update(b)\n",
        "c=copy.deepcopy(a)\n",
        "a['作業分數'][1]=80\n",
        "c['姓名']='許珈綺'\n",
        "c['性別']='女'\n",
        "c['學號']='M1229001'\n",
        "d=a.pop('作業分數')\n",
        "e=(d[0]+d[1]+d[2])/3\n",
        "print(e)\n",
        "print(a)\n",
        "f=c.pop('作業分數')\n",
        "g=(f[0]+f[1]+f[2])/3\n",
        "print(g)\n",
        "print(c)"
      ]
    },
    {
      "cell_type": "code",
      "source": [
        "a=[100,50,45,60,90,95,80,50]\n",
        "a.insert(0,88)\n",
        "a[2:5]=[70,50]\n",
        "a.remove(50)\n",
        "print(a.pop(0)+a.pop(len(a)-1))"
      ],
      "metadata": {
        "colab": {
          "base_uri": "https://localhost:8080/"
        },
        "id": "1UObo_4BjfyV",
        "outputId": "4aa87d22-5d7a-453a-c650-4f47515af912"
      },
      "execution_count": 23,
      "outputs": [
        {
          "output_type": "stream",
          "name": "stdout",
          "text": [
            "138\n"
          ]
        }
      ]
    },
    {
      "cell_type": "code",
      "source": [
        "A=347//3\n",
        "B=347%3\n",
        "print(A)\n",
        "print(B)\n",
        "print(A**B)"
      ],
      "metadata": {
        "colab": {
          "base_uri": "https://localhost:8080/"
        },
        "id": "0yDnBVSXlR4E",
        "outputId": "daa7d03c-e34c-41cf-c3d1-b5d0c6052d65"
      },
      "execution_count": 24,
      "outputs": [
        {
          "output_type": "stream",
          "name": "stdout",
          "text": [
            "115\n",
            "2\n",
            "13225\n"
          ]
        }
      ]
    }
  ]
}