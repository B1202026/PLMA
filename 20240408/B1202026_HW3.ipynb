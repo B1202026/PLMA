{
  "nbformat": 4,
  "nbformat_minor": 0,
  "metadata": {
    "colab": {
      "provenance": []
    },
    "kernelspec": {
      "name": "python3",
      "display_name": "Python 3"
    },
    "language_info": {
      "name": "python"
    }
  },
  "cells": [
    {
      "cell_type": "code",
      "execution_count": 14,
      "metadata": {
        "colab": {
          "base_uri": "https://localhost:8080/"
        },
        "id": "4MRSiuavn6G7",
        "outputId": "3aeab311-f19e-48ed-874c-40d6b79e7362"
      },
      "outputs": [
        {
          "output_type": "stream",
          "name": "stdout",
          "text": [
            "輸入年份:2000\n",
            "閏年\n"
          ]
        }
      ],
      "source": [
        "a=float(input('輸入年份:'))\n",
        "if a<=1582:\n",
        "  if a%4==0:\n",
        "    print('閏年')\n",
        "  else:\n",
        "    print('平年')\n",
        "else:\n",
        "  if a%400==0:\n",
        "    print('閏年')\n",
        "  elif a%100==0:\n",
        "    print('平年')\n",
        "  elif a%4==0:\n",
        "    print('閏年')\n",
        "  else:\n",
        "    print('平年')"
      ]
    }
  ]
}