{
  "nbformat": 4,
  "nbformat_minor": 0,
  "metadata": {
    "colab": {
      "provenance": []
    },
    "kernelspec": {
      "name": "python3",
      "display_name": "Python 3"
    },
    "language_info": {
      "name": "python"
    }
  },
  "cells": [
    {
      "cell_type": "code",
      "execution_count": 12,
      "metadata": {
        "colab": {
          "base_uri": "https://localhost:8080/"
        },
        "id": "5vQw9MdDfMUk",
        "outputId": "2f4e6a8c-07f7-4200-80d4-49554f89b25f"
      },
      "outputs": [
        {
          "output_type": "stream",
          "name": "stdout",
          "text": [
            "{'姓名': '賴宏偉', '性別': '男', '作業分數': [100, 100, 90], '學號': 'M1129020'}\n",
            "平均作業分數為： 96.66666666666667\n"
          ]
        }
      ],
      "source": [
        "a=dict(姓名='賴宏偉',性別='男',作業分數=[80,95,100,90])\n",
        "a['學號']='M1129020'\n",
        "a['作業分數'][1]=100\n",
        "del a['作業分數'][0]\n",
        "print(a)\n",
        "b=a.pop('作業分數')\n",
        "c=b[0]+b[1]+b[2]\n",
        "c/=3\n",
        "print('平均作業分數為：',c)"
      ]
    }
  ]
}