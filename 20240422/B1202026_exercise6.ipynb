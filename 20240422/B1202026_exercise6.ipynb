{
  "nbformat": 4,
  "nbformat_minor": 0,
  "metadata": {
    "colab": {
      "provenance": []
    },
    "kernelspec": {
      "name": "python3",
      "display_name": "Python 3"
    },
    "language_info": {
      "name": "python"
    }
  },
  "cells": [
    {
      "cell_type": "code",
      "execution_count": 1,
      "metadata": {
        "colab": {
          "base_uri": "https://localhost:8080/"
        },
        "id": "_K_bToAVptjE",
        "outputId": "ed00d50d-d797-4427-d8a8-5710fca5577b"
      },
      "outputs": [
        {
          "output_type": "stream",
          "name": "stdout",
          "text": [
            "1 x 1 = 1   2 x 1 = 2   3 x 1 = 3   4 x 1 = 4   5 x 1 = 5   6 x 1 = 6   7 x 1 = 7   8 x 1 = 8   9 x 1 = 9   \n",
            "1 x 2 = 2   2 x 2 = 4   3 x 2 = 6   4 x 2 = 8   5 x 2 = 10  6 x 2 = 12  7 x 2 = 14  8 x 2 = 16  9 x 2 = 18  \n",
            "1 x 3 = 3   2 x 3 = 6   3 x 3 = 9   4 x 3 = 12  5 x 3 = 15  6 x 3 = 18  7 x 3 = 21  8 x 3 = 24  9 x 3 = 27  \n",
            "1 x 4 = 4   2 x 4 = 8   3 x 4 = 12  4 x 4 = 16  5 x 4 = 20  6 x 4 = 24  7 x 4 = 28  8 x 4 = 32  9 x 4 = 36  \n",
            "1 x 5 = 5   2 x 5 = 10  3 x 5 = 15  4 x 5 = 20  5 x 5 = 25  6 x 5 = 30  7 x 5 = 35  8 x 5 = 40  9 x 5 = 45  \n",
            "1 x 6 = 6   2 x 6 = 12  3 x 6 = 18  4 x 6 = 24  5 x 6 = 30  6 x 6 = 36  7 x 6 = 42  8 x 6 = 48  9 x 6 = 54  \n",
            "1 x 7 = 7   2 x 7 = 14  3 x 7 = 21  4 x 7 = 28  5 x 7 = 35  6 x 7 = 42  7 x 7 = 49  8 x 7 = 56  9 x 7 = 63  \n",
            "1 x 8 = 8   2 x 8 = 16  3 x 8 = 24  4 x 8 = 32  5 x 8 = 40  6 x 8 = 48  7 x 8 = 56  8 x 8 = 64  9 x 8 = 72  \n",
            "1 x 9 = 9   2 x 9 = 18  3 x 9 = 27  4 x 9 = 36  5 x 9 = 45  6 x 9 = 54  7 x 9 = 63  8 x 9 = 72  9 x 9 = 81  \n"
          ]
        }
      ],
      "source": [
        "i=1;j=1\n",
        "while j<=9:\n",
        "  while i<=9:\n",
        "    print(f'{i} x {j} = {j*i:<2d} ',end=' ')\n",
        "    i+=1\n",
        "  print()\n",
        "  j+=1\n",
        "  i=1"
      ]
    },
    {
      "cell_type": "code",
      "source": [
        "import random\n",
        "ans=list(random.sample(range(1,10),4))\n",
        "print(f'答案為：{ans}')\n",
        "a=list()\n",
        "guess=0;A=0;B=0\n",
        "while True:\n",
        "  inp=input('輸入四個數字(不會重複)：')\n",
        "  a=list(inp)\n",
        "  if(len(a)!=len(ans)):\n",
        "    print('須輸入四個數字')\n",
        "  else:\n",
        "    for i in range(0,4):\n",
        "      for j in range(0,4):\n",
        "        if int(a[i])==int(ans[j]):\n",
        "          if i==j:\n",
        "            A+=1\n",
        "          else:\n",
        "            B+=1\n",
        "    print(f'{inp}:{A}A{B}B')\n",
        "    guess+=1\n",
        "  if A==4:\n",
        "    break\n",
        "  A=0;B=0\n",
        "print(f'答對了!總共猜了{guess}次')"
      ],
      "metadata": {
        "colab": {
          "base_uri": "https://localhost:8080/"
        },
        "id": "l_fEg8WHquAX",
        "outputId": "70dc0515-fd14-4741-a93c-3b1a4ba35af2"
      },
      "execution_count": 5,
      "outputs": [
        {
          "output_type": "stream",
          "name": "stdout",
          "text": [
            "答案為：[5, 2, 4, 3]\n",
            "輸入四個數字(不會重複)：3784\n",
            "3784:0A2B\n",
            "輸入四個數字(不會重複)：9876\n",
            "9876:0A0B\n",
            "輸入四個數字(不會重複)：12847\n",
            "須輸入四個數字\n",
            "輸入四個數字(不會重複)：5783\n",
            "5783:2A0B\n",
            "輸入四個數字(不會重複)：5143\n",
            "5143:3A0B\n",
            "輸入四個數字(不會重複)：5243\n",
            "5243:4A0B\n",
            "答對了!總共猜了5次\n"
          ]
        }
      ]
    }
  ]
}