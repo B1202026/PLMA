{
  "nbformat": 4,
  "nbformat_minor": 0,
  "metadata": {
    "colab": {
      "provenance": []
    },
    "kernelspec": {
      "name": "python3",
      "display_name": "Python 3"
    },
    "language_info": {
      "name": "python"
    }
  },
  "cells": [
    {
      "cell_type": "code",
      "execution_count": 41,
      "metadata": {
        "colab": {
          "base_uri": "https://localhost:8080/"
        },
        "id": "NtTj2ZXdvaJV",
        "outputId": "45bfa717-c0eb-4600-a684-c3a106d9f526"
      },
      "outputs": [
        {
          "output_type": "stream",
          "name": "stdout",
          "text": [
            "聖誕樹高度：8\n",
            "       *       \n",
            "      ***      \n",
            "     *****     \n",
            "    *******    \n",
            "   *********   \n",
            "  ***********  \n",
            " ************* \n",
            "***************\n",
            "      ***\n",
            "      ***\n",
            "      ***\n",
            "      ***\n",
            "      ***\n"
          ]
        }
      ],
      "source": [
        "def tree(l):\n",
        "  for i in range(1,l+1,1):\n",
        "    for j in range(1,l-i+1,1):\n",
        "      print(' ',end='')\n",
        "    a=(2*i-1)*'*'\n",
        "    print(a,end='')\n",
        "    for j in range(1,l-i+1,1):\n",
        "      print(' ',end='')\n",
        "    print()\n",
        "  for i in range(5):\n",
        "    for j in range(1,l-1,1):\n",
        "      print(' ',end='')\n",
        "    a=3*'*'\n",
        "    print(a)\n",
        "length=int(input('聖誕樹高度：'))\n",
        "tree(length)"
      ]
    },
    {
      "cell_type": "code",
      "source": [
        "def bmi(l,w):\n",
        "  try:\n",
        "    a=float(l)\n",
        "    b=float(w)\n",
        "    c=b*10000/a/a\n",
        "    if c>=27:\n",
        "      state='肥胖'\n",
        "    elif c>=24:\n",
        "      state='過重'\n",
        "    elif c>=18.5:\n",
        "      state='適中'\n",
        "    else:\n",
        "      state='過輕'\n",
        "    return c,state\n",
        "  except:\n",
        "    return 'error','error'\n",
        "\n",
        "length=input('身高(公分)：')\n",
        "weight=input('體重(公斤)：')\n",
        "a,b=bmi(length,weight)\n",
        "if a=='error':\n",
        "  print('輸入內容錯誤')\n",
        "else:\n",
        "  print(f'BMI值為{a}')\n",
        "  print(f'體位{b}')"
      ],
      "metadata": {
        "colab": {
          "base_uri": "https://localhost:8080/"
        },
        "id": "JDdKU5AY2tkc",
        "outputId": "70d76fad-f5ee-49a7-f1b9-c699adaccb2e"
      },
      "execution_count": 39,
      "outputs": [
        {
          "output_type": "stream",
          "name": "stdout",
          "text": [
            "身高(公分)：1444\n",
            "體重(公斤)：fr\n",
            "輸入內容錯誤\n"
          ]
        }
      ]
    }
  ]
}